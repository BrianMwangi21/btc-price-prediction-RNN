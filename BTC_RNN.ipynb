{
  "nbformat": 4,
  "nbformat_minor": 0,
  "metadata": {
    "colab": {
      "name": "BTC_RNN.ipynb",
      "provenance": [],
      "collapsed_sections": [],
      "authorship_tag": "ABX9TyOYddnvdewFYkY2zHSP3W0P",
      "include_colab_link": true
    },
    "kernelspec": {
      "name": "python3",
      "display_name": "Python 3"
    },
    "language_info": {
      "name": "python"
    },
    "accelerator": "GPU"
  },
  "cells": [
    {
      "cell_type": "markdown",
      "metadata": {
        "id": "view-in-github",
        "colab_type": "text"
      },
      "source": [
        "<a href=\"https://colab.research.google.com/github/BrianMwangi21/btc-price-prediction-RNN/blob/main/BTC_RNN.ipynb\" target=\"_parent\"><img src=\"https://colab.research.google.com/assets/colab-badge.svg\" alt=\"Open In Colab\"/></a>"
      ]
    },
    {
      "cell_type": "code",
      "metadata": {
        "colab": {
          "base_uri": "https://localhost:8080/",
          "height": 17
        },
        "id": "MlPMOm3dl9qG",
        "outputId": "96e08145-bab7-4125-aff2-b7e97e108739"
      },
      "source": [
        "import numpy as np\n",
        "import pandas as pd\n",
        "from pandas_datareader import data, wb\n",
        "import matplotlib.pyplot as plt\n",
        "import seaborn as sns\n",
        "import tensorflow as tf\n",
        "import math\n",
        "import datetime\n",
        "import plotly\n",
        "import cufflinks as cf\n",
        "cf.go_offline()\n",
        "%matplotlib inline"
      ],
      "execution_count": 1,
      "outputs": [
        {
          "output_type": "display_data",
          "data": {
            "text/html": [
              "        <script type=\"text/javascript\">\n",
              "        window.PlotlyConfig = {MathJaxConfig: 'local'};\n",
              "        if (window.MathJax) {MathJax.Hub.Config({SVG: {font: \"STIX-Web\"}});}\n",
              "        if (typeof require !== 'undefined') {\n",
              "        require.undef(\"plotly\");\n",
              "        requirejs.config({\n",
              "            paths: {\n",
              "                'plotly': ['https://cdn.plot.ly/plotly-latest.min']\n",
              "            }\n",
              "        });\n",
              "        require(['plotly'], function(Plotly) {\n",
              "            window._Plotly = Plotly;\n",
              "        });\n",
              "        }\n",
              "        </script>\n",
              "        "
            ]
          },
          "metadata": {
            "tags": []
          }
        }
      ]
    },
    {
      "cell_type": "code",
      "metadata": {
        "id": "3j4qU4VJq_PI"
      },
      "source": [
        "# Set duration\n",
        "start = datetime.datetime(2019, 4, 14)\n",
        "end = datetime.datetime(2021, 4, 14)"
      ],
      "execution_count": 2,
      "outputs": []
    },
    {
      "cell_type": "code",
      "metadata": {
        "colab": {
          "base_uri": "https://localhost:8080/",
          "height": 235
        },
        "id": "B5t-PQOGrQbE",
        "outputId": "d1104ff4-b87d-46bc-bb5a-ec1abe3bb941"
      },
      "source": [
        "# Import using DataReader\n",
        "df = data.DataReader(\"BTC-USD\",'yahoo',start,end)\n",
        "df.head()"
      ],
      "execution_count": 3,
      "outputs": [
        {
          "output_type": "execute_result",
          "data": {
            "text/html": [
              "<div>\n",
              "<style scoped>\n",
              "    .dataframe tbody tr th:only-of-type {\n",
              "        vertical-align: middle;\n",
              "    }\n",
              "\n",
              "    .dataframe tbody tr th {\n",
              "        vertical-align: top;\n",
              "    }\n",
              "\n",
              "    .dataframe thead th {\n",
              "        text-align: right;\n",
              "    }\n",
              "</style>\n",
              "<table border=\"1\" class=\"dataframe\">\n",
              "  <thead>\n",
              "    <tr style=\"text-align: right;\">\n",
              "      <th></th>\n",
              "      <th>High</th>\n",
              "      <th>Low</th>\n",
              "      <th>Open</th>\n",
              "      <th>Close</th>\n",
              "      <th>Volume</th>\n",
              "      <th>Adj Close</th>\n",
              "    </tr>\n",
              "    <tr>\n",
              "      <th>Date</th>\n",
              "      <th></th>\n",
              "      <th></th>\n",
              "      <th></th>\n",
              "      <th></th>\n",
              "      <th></th>\n",
              "      <th></th>\n",
              "    </tr>\n",
              "  </thead>\n",
              "  <tbody>\n",
              "    <tr>\n",
              "      <th>2019-04-13</th>\n",
              "      <td>5184.016113</td>\n",
              "      <td>5053.568359</td>\n",
              "      <td>5095.758789</td>\n",
              "      <td>5167.722168</td>\n",
              "      <td>1.039195e+10</td>\n",
              "      <td>5167.722168</td>\n",
              "    </tr>\n",
              "    <tr>\n",
              "      <th>2019-04-14</th>\n",
              "      <td>5196.606934</td>\n",
              "      <td>5024.069336</td>\n",
              "      <td>5167.321777</td>\n",
              "      <td>5067.108398</td>\n",
              "      <td>1.229016e+10</td>\n",
              "      <td>5067.108398</td>\n",
              "    </tr>\n",
              "    <tr>\n",
              "      <th>2019-04-15</th>\n",
              "      <td>5238.945312</td>\n",
              "      <td>5055.194824</td>\n",
              "      <td>5066.577637</td>\n",
              "      <td>5235.559570</td>\n",
              "      <td>1.161866e+10</td>\n",
              "      <td>5235.559570</td>\n",
              "    </tr>\n",
              "    <tr>\n",
              "      <th>2019-04-16</th>\n",
              "      <td>5274.275391</td>\n",
              "      <td>5219.205566</td>\n",
              "      <td>5236.135254</td>\n",
              "      <td>5251.937988</td>\n",
              "      <td>1.243848e+10</td>\n",
              "      <td>5251.937988</td>\n",
              "    </tr>\n",
              "    <tr>\n",
              "      <th>2019-04-17</th>\n",
              "      <td>5319.986328</td>\n",
              "      <td>5250.506836</td>\n",
              "      <td>5251.480469</td>\n",
              "      <td>5298.385742</td>\n",
              "      <td>1.325649e+10</td>\n",
              "      <td>5298.385742</td>\n",
              "    </tr>\n",
              "  </tbody>\n",
              "</table>\n",
              "</div>"
            ],
            "text/plain": [
              "                   High          Low  ...        Volume    Adj Close\n",
              "Date                                  ...                           \n",
              "2019-04-13  5184.016113  5053.568359  ...  1.039195e+10  5167.722168\n",
              "2019-04-14  5196.606934  5024.069336  ...  1.229016e+10  5067.108398\n",
              "2019-04-15  5238.945312  5055.194824  ...  1.161866e+10  5235.559570\n",
              "2019-04-16  5274.275391  5219.205566  ...  1.243848e+10  5251.937988\n",
              "2019-04-17  5319.986328  5250.506836  ...  1.325649e+10  5298.385742\n",
              "\n",
              "[5 rows x 6 columns]"
            ]
          },
          "metadata": {
            "tags": []
          },
          "execution_count": 3
        }
      ]
    },
    {
      "cell_type": "code",
      "metadata": {
        "colab": {
          "base_uri": "https://localhost:8080/",
          "height": 235
        },
        "id": "TOxtUVmbrXt_",
        "outputId": "724164ab-4360-40d6-ba54-db8096af8615"
      },
      "source": [
        "df.tail()"
      ],
      "execution_count": 4,
      "outputs": [
        {
          "output_type": "execute_result",
          "data": {
            "text/html": [
              "<div>\n",
              "<style scoped>\n",
              "    .dataframe tbody tr th:only-of-type {\n",
              "        vertical-align: middle;\n",
              "    }\n",
              "\n",
              "    .dataframe tbody tr th {\n",
              "        vertical-align: top;\n",
              "    }\n",
              "\n",
              "    .dataframe thead th {\n",
              "        text-align: right;\n",
              "    }\n",
              "</style>\n",
              "<table border=\"1\" class=\"dataframe\">\n",
              "  <thead>\n",
              "    <tr style=\"text-align: right;\">\n",
              "      <th></th>\n",
              "      <th>High</th>\n",
              "      <th>Low</th>\n",
              "      <th>Open</th>\n",
              "      <th>Close</th>\n",
              "      <th>Volume</th>\n",
              "      <th>Adj Close</th>\n",
              "    </tr>\n",
              "    <tr>\n",
              "      <th>Date</th>\n",
              "      <th></th>\n",
              "      <th></th>\n",
              "      <th></th>\n",
              "      <th></th>\n",
              "      <th></th>\n",
              "      <th></th>\n",
              "    </tr>\n",
              "  </thead>\n",
              "  <tbody>\n",
              "    <tr>\n",
              "      <th>2021-04-09</th>\n",
              "      <td>61276.664062</td>\n",
              "      <td>58038.707031</td>\n",
              "      <td>58253.777344</td>\n",
              "      <td>59793.234375</td>\n",
              "      <td>5.823847e+10</td>\n",
              "      <td>59793.234375</td>\n",
              "    </tr>\n",
              "    <tr>\n",
              "      <th>2021-04-10</th>\n",
              "      <td>60790.554688</td>\n",
              "      <td>59289.796875</td>\n",
              "      <td>59846.230469</td>\n",
              "      <td>60204.964844</td>\n",
              "      <td>4.628025e+10</td>\n",
              "      <td>60204.964844</td>\n",
              "    </tr>\n",
              "    <tr>\n",
              "      <th>2021-04-11</th>\n",
              "      <td>61253.035156</td>\n",
              "      <td>59589.875000</td>\n",
              "      <td>60175.945312</td>\n",
              "      <td>59893.453125</td>\n",
              "      <td>5.182869e+10</td>\n",
              "      <td>59893.453125</td>\n",
              "    </tr>\n",
              "    <tr>\n",
              "      <th>2021-04-12</th>\n",
              "      <td>63742.285156</td>\n",
              "      <td>59869.957031</td>\n",
              "      <td>59890.019531</td>\n",
              "      <td>63503.457031</td>\n",
              "      <td>6.998345e+10</td>\n",
              "      <td>63503.457031</td>\n",
              "    </tr>\n",
              "    <tr>\n",
              "      <th>2021-04-14</th>\n",
              "      <td>64717.011719</td>\n",
              "      <td>63147.847656</td>\n",
              "      <td>63630.902344</td>\n",
              "      <td>63707.867188</td>\n",
              "      <td>7.023898e+10</td>\n",
              "      <td>63707.867188</td>\n",
              "    </tr>\n",
              "  </tbody>\n",
              "</table>\n",
              "</div>"
            ],
            "text/plain": [
              "                    High           Low  ...        Volume     Adj Close\n",
              "Date                                    ...                            \n",
              "2021-04-09  61276.664062  58038.707031  ...  5.823847e+10  59793.234375\n",
              "2021-04-10  60790.554688  59289.796875  ...  4.628025e+10  60204.964844\n",
              "2021-04-11  61253.035156  59589.875000  ...  5.182869e+10  59893.453125\n",
              "2021-04-12  63742.285156  59869.957031  ...  6.998345e+10  63503.457031\n",
              "2021-04-14  64717.011719  63147.847656  ...  7.023898e+10  63707.867188\n",
              "\n",
              "[5 rows x 6 columns]"
            ]
          },
          "metadata": {
            "tags": []
          },
          "execution_count": 4
        }
      ]
    },
    {
      "cell_type": "code",
      "metadata": {
        "colab": {
          "base_uri": "https://localhost:8080/"
        },
        "id": "TYbcPCiCrcXx",
        "outputId": "7022757f-49b5-4a2b-b2c0-30e442b0e661"
      },
      "source": [
        "# Exploratory Data Analysis\n",
        "# Maximum Closing Rate\n",
        "df.xs(key='Close',axis=1).max()"
      ],
      "execution_count": 5,
      "outputs": [
        {
          "output_type": "execute_result",
          "data": {
            "text/plain": [
              "63707.8671875"
            ]
          },
          "metadata": {
            "tags": []
          },
          "execution_count": 5
        }
      ]
    },
    {
      "cell_type": "code",
      "metadata": {
        "id": "PMoC1eArrlKc"
      },
      "source": [
        "# Visualization (Closing Rate)\n",
        "df.xs(key='Close',axis=1).iplot()"
      ],
      "execution_count": null,
      "outputs": []
    },
    {
      "cell_type": "code",
      "metadata": {
        "colab": {
          "base_uri": "https://localhost:8080/",
          "height": 343
        },
        "id": "SUuyPUAnrrzF",
        "outputId": "9b5dff26-f354-4d14-c3e7-ba7a5a05aa96"
      },
      "source": [
        "# 30-day Moving Average for Close Price\n",
        "plt.figure(figsize=(12,5))\n",
        "df['Close'].loc['2019-04-14':'2021-04-14'].rolling(window=30).mean().plot(label='30 Day Moving Avg.')\n",
        "df['Close'].loc['2019-04-14':'2021-04-14'].plot(label='Close')\n",
        "plt.legend()"
      ],
      "execution_count": 8,
      "outputs": [
        {
          "output_type": "execute_result",
          "data": {
            "text/plain": [
              "<matplotlib.legend.Legend at 0x7f8cedf6e5d0>"
            ]
          },
          "metadata": {
            "tags": []
          },
          "execution_count": 8
        },
        {
          "output_type": "display_data",
          "data": {
            "image/png": "[encoded data removed]",
            "text/plain": [
              "<Figure size 864x360 with 1 Axes>"
            ]
          },
          "metadata": {
            "tags": [],
            "needs_background": "light"
          }
        }
      ]
    },
    {
      "cell_type": "code",
      "metadata": {
        "id": "AIQLx2ber5jd"
      },
      "source": [
        "df0 = df[['Open','High','Low','Close']].loc['2019-04-14':'2021-04-14']\n",
        "df0.iplot(kind='candle')"
      ],
      "execution_count": null,
      "outputs": []
    },
    {
      "cell_type": "code",
      "metadata": {
        "id": "8nD74iH4r9_N"
      },
      "source": [
        "df['Close'].loc['2019-04-14':'2021-04-14'].ta_plot(study='sma',periods=[9,18,27])"
      ],
      "execution_count": null,
      "outputs": []
    },
    {
      "cell_type": "code",
      "metadata": {
        "colab": {
          "base_uri": "https://localhost:8080/"
        },
        "id": "pr-pR-w-sIj2",
        "outputId": "2d5364fd-a93f-41fe-8047-59b9fd4de528"
      },
      "source": [
        "# Let's Reset the Index to Close\n",
        "df1=df.reset_index()['Close']\n",
        "df1"
      ],
      "execution_count": 12,
      "outputs": [
        {
          "output_type": "execute_result",
          "data": {
            "text/plain": [
              "0       5167.722168\n",
              "1       5067.108398\n",
              "2       5235.559570\n",
              "3       5251.937988\n",
              "4       5298.385742\n",
              "           ...     \n",
              "723    59793.234375\n",
              "724    60204.964844\n",
              "725    59893.453125\n",
              "726    63503.457031\n",
              "727    63707.867188\n",
              "Name: Close, Length: 728, dtype: float64"
            ]
          },
          "metadata": {
            "tags": []
          },
          "execution_count": 12
        }
      ]
    },
    {
      "cell_type": "code",
      "metadata": {
        "id": "IYoMDKIxsNrs"
      },
      "source": [
        "# Using MinMaxScaler\n",
        "from sklearn.preprocessing import MinMaxScaler\n",
        "scaler=MinMaxScaler(feature_range=(0,1))\n",
        "df1=scaler.fit_transform(np.array(df1).reshape(-1,1))"
      ],
      "execution_count": 13,
      "outputs": []
    },
    {
      "cell_type": "code",
      "metadata": {
        "id": "FmzgV6lasW_K"
      },
      "source": [
        "print(df1)"
      ],
      "execution_count": null,
      "outputs": []
    },
    {
      "cell_type": "code",
      "metadata": {
        "id": "3gA1R-HesY3Q"
      },
      "source": [
        "# Splitting the Close data into Train and Test sets\n",
        "training_size=int(len(df1)*0.70)\n",
        "test_size=len(df1)-training_size\n",
        "train_data,test_data=df1[0:training_size,:],df1[training_size:len(df1),:1]"
      ],
      "execution_count": 15,
      "outputs": []
    },
    {
      "cell_type": "code",
      "metadata": {
        "id": "LdpoImtismCQ"
      },
      "source": [
        "# convert an array of values into a dataset matrix\n",
        "def create_dataset(dataset, time_step=1):\n",
        "\tdataX, dataY = [], []\n",
        "\tfor i in range(len(dataset)-time_step-1):\n",
        "\t\ta = dataset[i:(i+time_step), 0]   ###i=0, 0,1,2,3-----99   100 \n",
        "\t\tdataX.append(a)\n",
        "\t\tdataY.append(dataset[i + time_step, 0])\n",
        "\treturn np.array(dataX), np.array(dataY)"
      ],
      "execution_count": 16,
      "outputs": []
    },
    {
      "cell_type": "code",
      "metadata": {
        "id": "Hxh5I6vKs5lA"
      },
      "source": [
        "# reshape into X=t,t+1,t+2,t+3 and Y=t+4\n",
        "time_step = 100\n",
        "X_train, y_train = create_dataset(train_data, time_step)\n",
        "X_test, y_test = create_dataset(test_data, time_step)"
      ],
      "execution_count": 17,
      "outputs": []
    },
    {
      "cell_type": "code",
      "metadata": {
        "colab": {
          "base_uri": "https://localhost:8080/"
        },
        "id": "c6IaHkPCs7yo",
        "outputId": "0cc87d2d-417a-48b5-df4d-cd968013ac10"
      },
      "source": [
        "print(X_train.shape), print(y_train.shape)"
      ],
      "execution_count": 18,
      "outputs": [
        {
          "output_type": "stream",
          "text": [
            "(408, 100)\n",
            "(408,)\n"
          ],
          "name": "stdout"
        },
        {
          "output_type": "execute_result",
          "data": {
            "text/plain": [
              "(None, None)"
            ]
          },
          "metadata": {
            "tags": []
          },
          "execution_count": 18
        }
      ]
    },
    {
      "cell_type": "code",
      "metadata": {
        "colab": {
          "base_uri": "https://localhost:8080/"
        },
        "id": "1DyKoYwss9q4",
        "outputId": "40467a52-fe86-475a-e434-8dbee695f3a3"
      },
      "source": [
        "print(X_test.shape), print(y_test.shape)"
      ],
      "execution_count": 19,
      "outputs": [
        {
          "output_type": "stream",
          "text": [
            "(118, 100)\n",
            "(118,)\n"
          ],
          "name": "stdout"
        },
        {
          "output_type": "execute_result",
          "data": {
            "text/plain": [
              "(None, None)"
            ]
          },
          "metadata": {
            "tags": []
          },
          "execution_count": 19
        }
      ]
    },
    {
      "cell_type": "code",
      "metadata": {
        "id": "VuRymtlss_rt"
      },
      "source": [
        "# reshape input to be [samples, time steps, features] which is required for LSTM\n",
        "X_train =X_train.reshape(X_train.shape[0],X_train.shape[1] , 1)\n",
        "X_test = X_test.reshape(X_test.shape[0],X_test.shape[1] , 1)"
      ],
      "execution_count": 20,
      "outputs": []
    },
    {
      "cell_type": "code",
      "metadata": {
        "id": "HMbyhSswtDJb"
      },
      "source": [
        "# Stacked LSTM Model\n",
        "from tensorflow.keras.models import Sequential\n",
        "from tensorflow.keras.layers import Dense\n",
        "from tensorflow.keras.layers import LSTM"
      ],
      "execution_count": 21,
      "outputs": []
    },
    {
      "cell_type": "code",
      "metadata": {
        "colab": {
          "base_uri": "https://localhost:8080/"
        },
        "id": "12BfLEbStLNS",
        "outputId": "6a64512d-29df-411e-e022-88a53d07b4ba"
      },
      "source": [
        "model=Sequential()\n",
        "model.add(LSTM(50,return_sequences=True,input_shape=(100,1)))\n",
        "model.add(LSTM(50,return_sequences=True))\n",
        "model.add(LSTM(50))\n",
        "model.add(Dense(1))\n",
        "model.compile(loss='mean_squared_error',optimizer='adam')\n",
        "model.summary()"
      ],
      "execution_count": 22,
      "outputs": [
        {
          "output_type": "stream",
          "text": [
            "Model: \"sequential\"\n",
            "_________________________________________________________________\n",
            "Layer (type)                 Output Shape              Param #   \n",
            "=================================================================\n",
            "lstm (LSTM)                  (None, 100, 50)           10400     \n",
            "_________________________________________________________________\n",
            "lstm_1 (LSTM)                (None, 100, 50)           20200     \n",
            "_________________________________________________________________\n",
            "lstm_2 (LSTM)                (None, 50)                20200     \n",
            "_________________________________________________________________\n",
            "dense (Dense)                (None, 1)                 51        \n",
            "=================================================================\n",
            "Total params: 50,851\n",
            "Trainable params: 50,851\n",
            "Non-trainable params: 0\n",
            "_________________________________________________________________\n"
          ],
          "name": "stdout"
        }
      ]
    },
    {
      "cell_type": "code",
      "metadata": {
        "colab": {
          "base_uri": "https://localhost:8080/"
        },
        "id": "0pq99uLxtPXP",
        "outputId": "076d936e-fe89-4fda-b9e4-f49146283d84"
      },
      "source": [
        "model.fit(X_train,y_train,validation_data=(X_test,y_test),epochs=100,batch_size=64,verbose=1)"
      ],
      "execution_count": 23,
      "outputs": [
        {
          "output_type": "stream",
          "text": [
            "Epoch 1/100\n",
            "7/7 [==============================] - 34s 252ms/step - loss: 0.0026 - val_loss: 0.2383\n",
            "Epoch 2/100\n",
            "7/7 [==============================] - 0s 28ms/step - loss: 6.6668e-04 - val_loss: 0.2694\n",
            "Epoch 3/100\n",
            "7/7 [==============================] - 0s 24ms/step - loss: 5.0328e-04 - val_loss: 0.2292\n",
            "Epoch 4/100\n",
            "7/7 [==============================] - 0s 22ms/step - loss: 4.3340e-04 - val_loss: 0.2472\n",
            "Epoch 5/100\n",
            "7/7 [==============================] - 0s 20ms/step - loss: 4.4448e-04 - val_loss: 0.2040\n",
            "Epoch 6/100\n",
            "7/7 [==============================] - 0s 19ms/step - loss: 3.8718e-04 - val_loss: 0.1706\n",
            "Epoch 7/100\n",
            "7/7 [==============================] - 0s 18ms/step - loss: 3.4605e-04 - val_loss: 0.1301\n",
            "Epoch 8/100\n",
            "7/7 [==============================] - 0s 18ms/step - loss: 2.6015e-04 - val_loss: 0.0739\n",
            "Epoch 9/100\n",
            "7/7 [==============================] - 0s 19ms/step - loss: 2.1603e-04 - val_loss: 0.0363\n",
            "Epoch 10/100\n",
            "7/7 [==============================] - 0s 19ms/step - loss: 1.9658e-04 - val_loss: 0.0212\n",
            "Epoch 11/100\n",
            "7/7 [==============================] - 0s 19ms/step - loss: 1.9327e-04 - val_loss: 0.0290\n",
            "Epoch 12/100\n",
            "7/7 [==============================] - 0s 19ms/step - loss: 2.4621e-04 - val_loss: 0.0331\n",
            "Epoch 13/100\n",
            "7/7 [==============================] - 0s 18ms/step - loss: 2.1382e-04 - val_loss: 0.0424\n",
            "Epoch 14/100\n",
            "7/7 [==============================] - 0s 18ms/step - loss: 1.7226e-04 - val_loss: 0.0357\n",
            "Epoch 15/100\n",
            "7/7 [==============================] - 0s 21ms/step - loss: 1.6039e-04 - val_loss: 0.0226\n",
            "Epoch 16/100\n",
            "7/7 [==============================] - 0s 19ms/step - loss: 1.5947e-04 - val_loss: 0.0218\n",
            "Epoch 17/100\n",
            "7/7 [==============================] - 0s 19ms/step - loss: 1.4824e-04 - val_loss: 0.0254\n",
            "Epoch 18/100\n",
            "7/7 [==============================] - 0s 20ms/step - loss: 1.3449e-04 - val_loss: 0.0255\n",
            "Epoch 19/100\n",
            "7/7 [==============================] - 0s 19ms/step - loss: 1.6085e-04 - val_loss: 0.0221\n",
            "Epoch 20/100\n",
            "7/7 [==============================] - 0s 20ms/step - loss: 1.5063e-04 - val_loss: 0.0153\n",
            "Epoch 21/100\n",
            "7/7 [==============================] - 0s 19ms/step - loss: 1.5720e-04 - val_loss: 0.0167\n",
            "Epoch 22/100\n",
            "7/7 [==============================] - 0s 20ms/step - loss: 1.1818e-04 - val_loss: 0.0175\n",
            "Epoch 23/100\n",
            "7/7 [==============================] - 0s 19ms/step - loss: 1.4788e-04 - val_loss: 0.0166\n",
            "Epoch 24/100\n",
            "7/7 [==============================] - 0s 19ms/step - loss: 1.5164e-04 - val_loss: 0.0197\n",
            "Epoch 25/100\n",
            "7/7 [==============================] - 0s 19ms/step - loss: 1.4356e-04 - val_loss: 0.0166\n",
            "Epoch 26/100\n",
            "7/7 [==============================] - 0s 19ms/step - loss: 1.2802e-04 - val_loss: 0.0163\n",
            "Epoch 27/100\n",
            "7/7 [==============================] - 0s 20ms/step - loss: 1.2537e-04 - val_loss: 0.0159\n",
            "Epoch 28/100\n",
            "7/7 [==============================] - 0s 19ms/step - loss: 1.1792e-04 - val_loss: 0.0147\n",
            "Epoch 29/100\n",
            "7/7 [==============================] - 0s 18ms/step - loss: 1.2189e-04 - val_loss: 0.0150\n",
            "Epoch 30/100\n",
            "7/7 [==============================] - 0s 19ms/step - loss: 1.1214e-04 - val_loss: 0.0092\n",
            "Epoch 31/100\n",
            "7/7 [==============================] - 0s 19ms/step - loss: 1.1987e-04 - val_loss: 0.0113\n",
            "Epoch 32/100\n",
            "7/7 [==============================] - 0s 19ms/step - loss: 1.2877e-04 - val_loss: 0.0117\n",
            "Epoch 33/100\n",
            "7/7 [==============================] - 0s 20ms/step - loss: 1.2561e-04 - val_loss: 0.0082\n",
            "Epoch 34/100\n",
            "7/7 [==============================] - 0s 20ms/step - loss: 9.1978e-05 - val_loss: 0.0078\n",
            "Epoch 35/100\n",
            "7/7 [==============================] - 0s 19ms/step - loss: 1.2552e-04 - val_loss: 0.0106\n",
            "Epoch 36/100\n",
            "7/7 [==============================] - 0s 18ms/step - loss: 1.1616e-04 - val_loss: 0.0104\n",
            "Epoch 37/100\n",
            "7/7 [==============================] - 0s 19ms/step - loss: 1.1146e-04 - val_loss: 0.0084\n",
            "Epoch 38/100\n",
            "7/7 [==============================] - 0s 19ms/step - loss: 1.0846e-04 - val_loss: 0.0071\n",
            "Epoch 39/100\n",
            "7/7 [==============================] - 0s 19ms/step - loss: 1.0562e-04 - val_loss: 0.0074\n",
            "Epoch 40/100\n",
            "7/7 [==============================] - 0s 19ms/step - loss: 9.0924e-05 - val_loss: 0.0079\n",
            "Epoch 41/100\n",
            "7/7 [==============================] - 0s 19ms/step - loss: 1.2607e-04 - val_loss: 0.0071\n",
            "Epoch 42/100\n",
            "7/7 [==============================] - 0s 20ms/step - loss: 1.0919e-04 - val_loss: 0.0074\n",
            "Epoch 43/100\n",
            "7/7 [==============================] - 0s 19ms/step - loss: 9.8736e-05 - val_loss: 0.0058\n",
            "Epoch 44/100\n",
            "7/7 [==============================] - 0s 19ms/step - loss: 1.1474e-04 - val_loss: 0.0053\n",
            "Epoch 45/100\n",
            "7/7 [==============================] - 0s 18ms/step - loss: 1.0589e-04 - val_loss: 0.0058\n",
            "Epoch 46/100\n",
            "7/7 [==============================] - 0s 19ms/step - loss: 9.9174e-05 - val_loss: 0.0049\n",
            "Epoch 47/100\n",
            "7/7 [==============================] - 0s 20ms/step - loss: 1.0889e-04 - val_loss: 0.0058\n",
            "Epoch 48/100\n",
            "7/7 [==============================] - 0s 19ms/step - loss: 1.0795e-04 - val_loss: 0.0065\n",
            "Epoch 49/100\n",
            "7/7 [==============================] - 0s 19ms/step - loss: 9.5367e-05 - val_loss: 0.0046\n",
            "Epoch 50/100\n",
            "7/7 [==============================] - 0s 20ms/step - loss: 8.7688e-05 - val_loss: 0.0047\n",
            "Epoch 51/100\n",
            "7/7 [==============================] - 0s 20ms/step - loss: 8.7155e-05 - val_loss: 0.0053\n",
            "Epoch 52/100\n",
            "7/7 [==============================] - 0s 18ms/step - loss: 8.7948e-05 - val_loss: 0.0073\n",
            "Epoch 53/100\n",
            "7/7 [==============================] - 0s 19ms/step - loss: 1.0479e-04 - val_loss: 0.0084\n",
            "Epoch 54/100\n",
            "7/7 [==============================] - 0s 19ms/step - loss: 1.1862e-04 - val_loss: 0.0095\n",
            "Epoch 55/100\n",
            "7/7 [==============================] - 0s 19ms/step - loss: 9.9851e-05 - val_loss: 0.0070\n",
            "Epoch 56/100\n",
            "7/7 [==============================] - 0s 19ms/step - loss: 9.7327e-05 - val_loss: 0.0037\n",
            "Epoch 57/100\n",
            "7/7 [==============================] - 0s 19ms/step - loss: 9.4610e-05 - val_loss: 0.0035\n",
            "Epoch 58/100\n",
            "7/7 [==============================] - 0s 20ms/step - loss: 8.7958e-05 - val_loss: 0.0037\n",
            "Epoch 59/100\n",
            "7/7 [==============================] - 0s 18ms/step - loss: 1.0590e-04 - val_loss: 0.0038\n",
            "Epoch 60/100\n",
            "7/7 [==============================] - 0s 19ms/step - loss: 8.0840e-05 - val_loss: 0.0035\n",
            "Epoch 61/100\n",
            "7/7 [==============================] - 0s 18ms/step - loss: 8.5435e-05 - val_loss: 0.0037\n",
            "Epoch 62/100\n",
            "7/7 [==============================] - 0s 19ms/step - loss: 8.1697e-05 - val_loss: 0.0034\n",
            "Epoch 63/100\n",
            "7/7 [==============================] - 0s 19ms/step - loss: 9.1752e-05 - val_loss: 0.0035\n",
            "Epoch 64/100\n",
            "7/7 [==============================] - 0s 19ms/step - loss: 8.6772e-05 - val_loss: 0.0034\n",
            "Epoch 65/100\n",
            "7/7 [==============================] - 0s 19ms/step - loss: 8.9489e-05 - val_loss: 0.0036\n",
            "Epoch 66/100\n",
            "7/7 [==============================] - 0s 22ms/step - loss: 8.8003e-05 - val_loss: 0.0037\n",
            "Epoch 67/100\n",
            "7/7 [==============================] - 0s 19ms/step - loss: 7.7468e-05 - val_loss: 0.0033\n",
            "Epoch 68/100\n",
            "7/7 [==============================] - 0s 19ms/step - loss: 7.0846e-05 - val_loss: 0.0034\n",
            "Epoch 69/100\n",
            "7/7 [==============================] - 0s 19ms/step - loss: 7.0352e-05 - val_loss: 0.0038\n",
            "Epoch 70/100\n",
            "7/7 [==============================] - 0s 19ms/step - loss: 7.3981e-05 - val_loss: 0.0034\n",
            "Epoch 71/100\n",
            "7/7 [==============================] - 0s 19ms/step - loss: 6.9332e-05 - val_loss: 0.0032\n",
            "Epoch 72/100\n",
            "7/7 [==============================] - 0s 19ms/step - loss: 7.2921e-05 - val_loss: 0.0033\n",
            "Epoch 73/100\n",
            "7/7 [==============================] - 0s 19ms/step - loss: 7.1597e-05 - val_loss: 0.0032\n",
            "Epoch 74/100\n",
            "7/7 [==============================] - 0s 20ms/step - loss: 6.9635e-05 - val_loss: 0.0036\n",
            "Epoch 75/100\n",
            "7/7 [==============================] - 0s 19ms/step - loss: 8.1813e-05 - val_loss: 0.0040\n",
            "Epoch 76/100\n",
            "7/7 [==============================] - 0s 19ms/step - loss: 8.9187e-05 - val_loss: 0.0035\n",
            "Epoch 77/100\n",
            "7/7 [==============================] - 0s 19ms/step - loss: 7.3033e-05 - val_loss: 0.0045\n",
            "Epoch 78/100\n",
            "7/7 [==============================] - 0s 19ms/step - loss: 7.8969e-05 - val_loss: 0.0033\n",
            "Epoch 79/100\n",
            "7/7 [==============================] - 0s 19ms/step - loss: 6.4919e-05 - val_loss: 0.0031\n",
            "Epoch 80/100\n",
            "7/7 [==============================] - 0s 19ms/step - loss: 7.1271e-05 - val_loss: 0.0037\n",
            "Epoch 81/100\n",
            "7/7 [==============================] - 0s 20ms/step - loss: 7.6800e-05 - val_loss: 0.0035\n",
            "Epoch 82/100\n",
            "7/7 [==============================] - 0s 19ms/step - loss: 6.8094e-05 - val_loss: 0.0044\n",
            "Epoch 83/100\n",
            "7/7 [==============================] - 0s 21ms/step - loss: 6.6857e-05 - val_loss: 0.0033\n",
            "Epoch 84/100\n",
            "7/7 [==============================] - 0s 21ms/step - loss: 5.8291e-05 - val_loss: 0.0040\n",
            "Epoch 85/100\n",
            "7/7 [==============================] - 0s 19ms/step - loss: 6.2167e-05 - val_loss: 0.0033\n",
            "Epoch 86/100\n",
            "7/7 [==============================] - 0s 19ms/step - loss: 7.8140e-05 - val_loss: 0.0034\n",
            "Epoch 87/100\n",
            "7/7 [==============================] - 0s 20ms/step - loss: 5.9024e-05 - val_loss: 0.0034\n",
            "Epoch 88/100\n",
            "7/7 [==============================] - 0s 20ms/step - loss: 5.8843e-05 - val_loss: 0.0031\n",
            "Epoch 89/100\n",
            "7/7 [==============================] - 0s 20ms/step - loss: 6.9685e-05 - val_loss: 0.0036\n",
            "Epoch 90/100\n",
            "7/7 [==============================] - 0s 19ms/step - loss: 7.0200e-05 - val_loss: 0.0052\n",
            "Epoch 91/100\n",
            "7/7 [==============================] - 0s 19ms/step - loss: 7.8530e-05 - val_loss: 0.0061\n",
            "Epoch 92/100\n",
            "7/7 [==============================] - 0s 19ms/step - loss: 6.0985e-05 - val_loss: 0.0050\n",
            "Epoch 93/100\n",
            "7/7 [==============================] - 0s 19ms/step - loss: 7.8418e-05 - val_loss: 0.0045\n",
            "Epoch 94/100\n",
            "7/7 [==============================] - 0s 20ms/step - loss: 7.2994e-05 - val_loss: 0.0049\n",
            "Epoch 95/100\n",
            "7/7 [==============================] - 0s 19ms/step - loss: 5.8648e-05 - val_loss: 0.0055\n",
            "Epoch 96/100\n",
            "7/7 [==============================] - 0s 20ms/step - loss: 6.4236e-05 - val_loss: 0.0048\n",
            "Epoch 97/100\n",
            "7/7 [==============================] - 0s 19ms/step - loss: 4.9114e-05 - val_loss: 0.0049\n",
            "Epoch 98/100\n",
            "7/7 [==============================] - 0s 20ms/step - loss: 5.5975e-05 - val_loss: 0.0033\n",
            "Epoch 99/100\n",
            "7/7 [==============================] - 0s 20ms/step - loss: 5.4276e-05 - val_loss: 0.0047\n",
            "Epoch 100/100\n",
            "7/7 [==============================] - 0s 19ms/step - loss: 5.1073e-05 - val_loss: 0.0083\n"
          ],
          "name": "stdout"
        },
        {
          "output_type": "execute_result",
          "data": {
            "text/plain": [
              "<tensorflow.python.keras.callbacks.History at 0x7f8cec33e550>"
            ]
          },
          "metadata": {
            "tags": []
          },
          "execution_count": 23
        }
      ]
    },
    {
      "cell_type": "code",
      "metadata": {
        "id": "TlT1oaQDtS7h"
      },
      "source": [
        "# Let's predict\n",
        "train_predict=model.predict(X_train)\n",
        "test_predict=model.predict(X_test)"
      ],
      "execution_count": 24,
      "outputs": []
    },
    {
      "cell_type": "code",
      "metadata": {
        "id": "h0yF0nA6uRr9"
      },
      "source": [
        "# Transformback to original form\n",
        "train_predict=scaler.inverse_transform(train_predict)\n",
        "test_predict=scaler.inverse_transform(test_predict)"
      ],
      "execution_count": 25,
      "outputs": []
    },
    {
      "cell_type": "code",
      "metadata": {
        "colab": {
          "base_uri": "https://localhost:8080/"
        },
        "id": "M34LBhjsuTh3",
        "outputId": "b469a258-2026-4ef6-e747-6ce9170b95af"
      },
      "source": [
        "### Calculate RMSE performance metrics\n",
        "from sklearn.metrics import mean_squared_error\n",
        "math.sqrt(mean_squared_error(y_train,train_predict))"
      ],
      "execution_count": 26,
      "outputs": [
        {
          "output_type": "execute_result",
          "data": {
            "text/plain": [
              "9283.721489051904"
            ]
          },
          "metadata": {
            "tags": []
          },
          "execution_count": 26
        }
      ]
    },
    {
      "cell_type": "code",
      "metadata": {
        "colab": {
          "base_uri": "https://localhost:8080/"
        },
        "id": "FmSowz0GuVXv",
        "outputId": "869ba3e0-276c-4103-a966-56e7915898a0"
      },
      "source": [
        "### Test Data RMSE\n",
        "math.sqrt(mean_squared_error(y_test,test_predict))"
      ],
      "execution_count": 27,
      "outputs": [
        {
          "output_type": "execute_result",
          "data": {
            "text/plain": [
              "50019.332474983006"
            ]
          },
          "metadata": {
            "tags": []
          },
          "execution_count": 27
        }
      ]
    },
    {
      "cell_type": "code",
      "metadata": {
        "colab": {
          "base_uri": "https://localhost:8080/",
          "height": 267
        },
        "id": "19t__mdfuXgV",
        "outputId": "1f4df1cf-7ccd-486a-d752-d7d8429863d6"
      },
      "source": [
        "# Let's visualize\n",
        "# shift train predictions for plotting\n",
        "look_back=100\n",
        "trainPredictPlot = np.empty_like(df1)\n",
        "trainPredictPlot[:, :] = np.nan\n",
        "trainPredictPlot[look_back:len(train_predict)+look_back, :] = train_predict\n",
        "# shift test predictions for plotting\n",
        "testPredictPlot = np.empty_like(df1)\n",
        "testPredictPlot[:, :] = np.nan\n",
        "testPredictPlot[len(train_predict)+(look_back*2)+1:len(df1)-1, :] = test_predict\n",
        "# plot baseline and predictions\n",
        "plt.plot(scaler.inverse_transform(df1))\n",
        "plt.plot(trainPredictPlot)\n",
        "plt.plot(testPredictPlot)\n",
        "plt.show()"
      ],
      "execution_count": 28,
      "outputs": [
        {
          "output_type": "display_data",
          "data": {
            "image/png": "[encoded data removed]",
            "text/plain": [
              "<Figure size 432x288 with 1 Axes>"
            ]
          },
          "metadata": {
            "tags": [],
            "needs_background": "light"
          }
        }
      ]
    },
    {
      "cell_type": "code",
      "metadata": {
        "colab": {
          "base_uri": "https://localhost:8080/"
        },
        "id": "IDzJ-Jaduh9J",
        "outputId": "af61cd76-8a90-4540-84bc-2b2b24c88741"
      },
      "source": [
        "len(test_data)"
      ],
      "execution_count": 29,
      "outputs": [
        {
          "output_type": "execute_result",
          "data": {
            "text/plain": [
              "219"
            ]
          },
          "metadata": {
            "tags": []
          },
          "execution_count": 29
        }
      ]
    },
    {
      "cell_type": "code",
      "metadata": {
        "colab": {
          "base_uri": "https://localhost:8080/"
        },
        "id": "B7-riLF0uroq",
        "outputId": "cd2feb08-fe8c-46bd-c206-3ea7086b345a"
      },
      "source": [
        "x_input=test_data[118:].reshape(1,-1)\n",
        "x_input.shape"
      ],
      "execution_count": 31,
      "outputs": [
        {
          "output_type": "execute_result",
          "data": {
            "text/plain": [
              "(1, 101)"
            ]
          },
          "metadata": {
            "tags": []
          },
          "execution_count": 31
        }
      ]
    },
    {
      "cell_type": "code",
      "metadata": {
        "id": "DWDrizcAuuN_"
      },
      "source": [
        "temp_input=list(x_input)\n",
        "temp_input=temp_input[0].tolist()"
      ],
      "execution_count": 32,
      "outputs": []
    },
    {
      "cell_type": "code",
      "metadata": {
        "id": "ZuTrUQVDvGEX"
      },
      "source": [
        "temp_input"
      ],
      "execution_count": null,
      "outputs": []
    },
    {
      "cell_type": "code",
      "metadata": {
        "id": "bUBCNy-jvIoo"
      },
      "source": [
        "# demonstrate prediction for next 10 days\n",
        "from numpy import array\n",
        "\n",
        "lst_output=[]\n",
        "n_steps=100\n",
        "i=0\n",
        "while(i<30):\n",
        "    \n",
        "    if(len(temp_input)>100):\n",
        "        #print(temp_input)\n",
        "        x_input=np.array(temp_input[1:])\n",
        "        print(\"{} day input {}\".format(i,x_input))\n",
        "        x_input=x_input.reshape(1,-1)\n",
        "        x_input = x_input.reshape((1, n_steps, 1))\n",
        "        #print(x_input)\n",
        "        yhat = model.predict(x_input, verbose=0)\n",
        "        print(\"{} day output {}\".format(i,yhat))\n",
        "        temp_input.extend(yhat[0].tolist())\n",
        "        temp_input=temp_input[1:]\n",
        "        #print(temp_input)\n",
        "        lst_output.extend(yhat.tolist())\n",
        "        i=i+1\n",
        "    else:\n",
        "        x_input = x_input.reshape((1, n_steps,1))\n",
        "        yhat = model.predict(x_input, verbose=0)\n",
        "        print(yhat[0])\n",
        "        temp_input.extend(yhat[0].tolist())\n",
        "        print(len(temp_input))\n",
        "        lst_output.extend(yhat.tolist())\n",
        "        i=i+1\n",
        "    \n",
        "\n",
        "print(lst_output)"
      ],
      "execution_count": null,
      "outputs": []
    },
    {
      "cell_type": "code",
      "metadata": {
        "id": "3RHHMr2PvNuU"
      },
      "source": [
        "# Prediction for 30 days\n",
        "day_new=np.arange(1,101)\n",
        "day_pred=np.arange(101,131)"
      ],
      "execution_count": 35,
      "outputs": []
    },
    {
      "cell_type": "code",
      "metadata": {
        "colab": {
          "base_uri": "https://localhost:8080/"
        },
        "id": "JQtUOdP_vctW",
        "outputId": "be0a8fbb-80c3-4eab-fc39-f490d0612e3c"
      },
      "source": [
        "len(df1)"
      ],
      "execution_count": 36,
      "outputs": [
        {
          "output_type": "execute_result",
          "data": {
            "text/plain": [
              "728"
            ]
          },
          "metadata": {
            "tags": []
          },
          "execution_count": 36
        }
      ]
    },
    {
      "cell_type": "code",
      "metadata": {
        "colab": {
          "base_uri": "https://localhost:8080/",
          "height": 282
        },
        "id": "xK2BmjgavfU_",
        "outputId": "5a43e556-b1f0-474c-e192-b30f87f30789"
      },
      "source": [
        "plt.plot(day_new,scaler.inverse_transform(df1[628:]))\n",
        "plt.plot(day_pred,scaler.inverse_transform(lst_output))"
      ],
      "execution_count": 38,
      "outputs": [
        {
          "output_type": "execute_result",
          "data": {
            "text/plain": [
              "[<matplotlib.lines.Line2D at 0x7f8ce9f2ed10>]"
            ]
          },
          "metadata": {
            "tags": []
          },
          "execution_count": 38
        },
        {
          "output_type": "display_data",
          "data": {
            "image/png": "[encoded data removed]",
            "text/plain": [
              "<Figure size 432x288 with 1 Axes>"
            ]
          },
          "metadata": {
            "tags": [],
            "needs_background": "light"
          }
        }
      ]
    },
    {
      "cell_type": "code",
      "metadata": {
        "colab": {
          "base_uri": "https://localhost:8080/",
          "height": 282
        },
        "id": "uu86I0u-vig4",
        "outputId": "60436ed3-2a96-4b8b-86bb-9dcf57e61a31"
      },
      "source": [
        "df3=scaler.inverse_transform(df1).tolist()\n",
        "plt.plot(df3)"
      ],
      "execution_count": 40,
      "outputs": [
        {
          "output_type": "execute_result",
          "data": {
            "text/plain": [
              "[<matplotlib.lines.Line2D at 0x7f8cec120110>]"
            ]
          },
          "metadata": {
            "tags": []
          },
          "execution_count": 40
        },
        {
          "output_type": "display_data",
          "data": {
            "image/png": "[encoded data removed]",
            "text/plain": [
              "<Figure size 432x288 with 1 Axes>"
            ]
          },
          "metadata": {
            "tags": [],
            "needs_background": "light"
          }
        }
      ]
    },
    {
      "cell_type": "code",
      "metadata": {
        "id": "q7KUMnUtv4WV"
      },
      "source": [
        ""
      ],
      "execution_count": null,
      "outputs": []
    }
  ]
}